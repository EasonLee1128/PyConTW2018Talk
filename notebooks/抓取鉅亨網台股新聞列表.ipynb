{
 "cells": [
  {
   "cell_type": "code",
   "execution_count": 1,
   "metadata": {},
   "outputs": [],
   "source": [
    "import requests\n",
    "from bs4 import BeautifulSoup"
   ]
  },
  {
   "cell_type": "code",
   "execution_count": 18,
   "metadata": {},
   "outputs": [],
   "source": [
    "base_url = \"https://news.cnyes.com\""
   ]
  },
  {
   "cell_type": "code",
   "execution_count": 2,
   "metadata": {},
   "outputs": [],
   "source": [
    "url = \"https://news.cnyes.com/news/cat/tw_stock_news\""
   ]
  },
  {
   "cell_type": "code",
   "execution_count": 3,
   "metadata": {},
   "outputs": [],
   "source": [
    "r = requests.get(url)"
   ]
  },
  {
   "cell_type": "code",
   "execution_count": 4,
   "metadata": {},
   "outputs": [],
   "source": [
    "soup = BeautifulSoup(r.text, 'lxml')"
   ]
  },
  {
   "cell_type": "code",
   "execution_count": 13,
   "metadata": {},
   "outputs": [],
   "source": [
    "news_list = soup.select('div._2bF.theme-list div a')"
   ]
  },
  {
   "cell_type": "code",
   "execution_count": 21,
   "metadata": {},
   "outputs": [
    {
     "name": "stdout",
     "output_type": "stream",
     "text": [
      "房價下修 一銀房貸逾放比提高至0.39% 高於全體銀行平均\n",
      "https://news.cnyes.com/news/id/4134676\n",
      "============================================================\n",
      "三陽明天罕見停牌 推估將啟動龐大土地開發計畫\n",
      "https://news.cnyes.com/news/id/4134599\n",
      "============================================================\n",
      "晟德小金雞報佳音 金樺生醫攜手BLI攻全新細胞株製備流程\n",
      "https://news.cnyes.com/news/id/4134598\n",
      "============================================================\n",
      "轉攻電競挖到寶  宏碁轉型看高成長、高獲利 力拚6家小金雞上市\n",
      "https://news.cnyes.com/news/id/4134588\n",
      "============================================================\n",
      "逸達生技預計6月底上櫃 前列腺癌用藥下半年申請FDA藥證\n",
      "https://news.cnyes.com/news/id/4134590\n",
      "============================================================\n",
      "三大法人大賣169億元 外資大砍14檔金控 台積電慘遭連5賣\n",
      "https://news.cnyes.com/news/id/4134579\n",
      "============================================================\n",
      "台開總經理王嶠奇請辭6/1生效 將由董事長邱復生兼任\n",
      "https://news.cnyes.com/news/id/4134570\n",
      "============================================================\n",
      "中華開發創新加速器搭建創業平台 創新基金已投資6家新創公司\n",
      "https://news.cnyes.com/news/id/4134591\n",
      "============================================================\n",
      "〈台北國際電腦展〉義隆電攻AI 推3D人臉辨識、智慧車流解決方案\n",
      "https://news.cnyes.com/news/id/4134572\n",
      "============================================================\n",
      "精誠樂觀看待今年業績將優於去年表現 AI佈局最快H2發酵\n",
      "https://news.cnyes.com/news/id/4134578\n",
      "============================================================\n",
      "多晶矽成本漲+晶片單價下滑 綠能4月自結每股虧0.52元\n",
      "https://news.cnyes.com/news/id/4134560\n",
      "============================================================\n",
      "上曜4.81億元標下台南九份子重劃區建地 最快1年後推案\n",
      "https://news.cnyes.com/news/id/4134548\n",
      "============================================================\n",
      "談虛擬貨幣公開發行 顧立雄：依三大類採個案管理\n",
      "https://news.cnyes.com/news/id/4134537\n",
      "============================================================\n",
      "廣華-KY強攻塑膠件輕量化技術 墨西哥廠Q4投產\n",
      "https://news.cnyes.com/news/id/4134535\n",
      "============================================================\n",
      "〈宏達電攻AI〉醫院導診成果展現 目標進入精準醫療\n",
      "https://news.cnyes.com/news/id/4134530\n",
      "============================================================\n",
      "和泰車斥3億元打造全新LEXUS濱江保修據點 盼全年銷量超越1.6萬台目標\n",
      "https://news.cnyes.com/news/id/4134556\n",
      "============================================================\n",
      "佳世達於Computex 2018展現智慧艦隊戰力 瞄準零售、運輸四領域應用\n",
      "https://news.cnyes.com/news/id/4134555\n",
      "============================================================\n",
      "搶家庭連網商機 中磊推出全系列數位視訊機上盒\n",
      "https://news.cnyes.com/news/id/4134513\n",
      "============================================================\n",
      "〈威剛展望〉今年營運逐季高 DRAM維持健康樂觀至2020年\n",
      "https://news.cnyes.com/news/id/4134457\n",
      "============================================================\n",
      "永大經營權之爭 市場派：董事提名換湯不換藥 轉型計畫無創新\n",
      "https://news.cnyes.com/news/id/4134528\n",
      "============================================================\n",
      "經營權之爭 永大公司派：董座許作立改選後退休由許瑞鈞接班\n",
      "https://news.cnyes.com/news/id/4134527\n",
      "============================================================\n",
      "首批期貨型權證明上市交易 3家券商拔頭籌\n",
      "https://news.cnyes.com/news/id/4134450\n",
      "============================================================\n",
      "台開遭MSCI自小型成分股剔除 擬再買進1萬張庫藏股護盤\n",
      "https://news.cnyes.com/news/id/4134446\n",
      "============================================================\n",
      "雲品去年3指標全創高 今年打造全新婚宴品牌頤璽Q4登場\n",
      "https://news.cnyes.com/news/id/4134444\n",
      "============================================================\n",
      "中華車首季大陸轉投資收益豐厚 可望為今年獲利成長主力\n",
      "https://news.cnyes.com/news/id/4134427\n",
      "============================================================\n",
      "搶攻冰品商機 全家6/5起推季節限定「金色三麥啤酒」霜淇淋\n",
      "https://news.cnyes.com/news/id/4134437\n",
      "============================================================\n",
      "國內首例國貿區塊鏈應用 陽明攜手中信銀及奇美 優化國際貿易流程\n",
      "https://news.cnyes.com/news/id/4134438\n",
      "============================================================\n",
      "〈威剛展望〉進軍智慧音箱市場 市占拚亞軍 推中文系統Q3量產\n",
      "https://news.cnyes.com/news/id/4134425\n",
      "============================================================\n",
      "因應新零售時代 阿瘦「打掉重練」完成新整合經營模式\n",
      "https://news.cnyes.com/news/id/4134411\n",
      "============================================================\n",
      "錸德坐擁訂單利多 股價漲停登13年新高\n",
      "https://news.cnyes.com/news/id/4134392\n",
      "============================================================\n"
     ]
    }
   ],
   "source": [
    "for news in news_list:\n",
    "    print(news.get('title'))\n",
    "    print(base_url + news.get('href'))\n",
    "    print(\"=\" * 60)"
   ]
  },
  {
   "cell_type": "code",
   "execution_count": 23,
   "metadata": {},
   "outputs": [],
   "source": [
    "content = \"鉅亨台股新聞：\\n\\n\"\n",
    "link_template = \"<a href='{href}'>{title}</a>\"\n",
    "for index, news in enumerate(news_list):\n",
    "    if index == 10:\n",
    "        break\n",
    "    \n",
    "    link = link_template.format(href=base_url+news.get('href'), title=news.get('title'))\n",
    "    content += '{}\\n\\n'.format(link)"
   ]
  },
  {
   "cell_type": "code",
   "execution_count": 24,
   "metadata": {},
   "outputs": [
    {
     "data": {
      "text/plain": [
       "\"<a href='https://news.cnyes.com/news/id/4134676'>房價下修 一銀房貸逾放比提高至0.39% 高於全體銀行平均</a>\\n\\n<a href='https://news.cnyes.com/news/id/4134599'>三陽明天罕見停牌 推估將啟動龐大土地開發計畫</a>\\n\\n<a href='https://news.cnyes.com/news/id/4134598'>晟德小金雞報佳音 金樺生醫攜手BLI攻全新細胞株製備流程</a>\\n\\n<a href='https://news.cnyes.com/news/id/4134588'>轉攻電競挖到寶  宏碁轉型看高成長、高獲利 力拚6家小金雞上市</a>\\n\\n<a href='https://news.cnyes.com/news/id/4134590'>逸達生技預計6月底上櫃 前列腺癌用藥下半年申請FDA藥證</a>\\n\\n<a href='https://news.cnyes.com/news/id/4134579'>三大法人大賣169億元 外資大砍14檔金控 台積電慘遭連5賣</a>\\n\\n<a href='https://news.cnyes.com/news/id/4134570'>台開總經理王嶠奇請辭6/1生效 將由董事長邱復生兼任</a>\\n\\n<a href='https://news.cnyes.com/news/id/4134591'>中華開發創新加速器搭建創業平台 創新基金已投資6家新創公司</a>\\n\\n<a href='https://news.cnyes.com/news/id/4134572'>〈台北國際電腦展〉義隆電攻AI 推3D人臉辨識、智慧車流解決方案</a>\\n\\n<a href='https://news.cnyes.com/news/id/4134578'>精誠樂觀看待今年業績將優於去年表現 AI佈局最快H2發酵</a>\\n\\n\""
      ]
     },
     "execution_count": 24,
     "metadata": {},
     "output_type": "execute_result"
    }
   ],
   "source": [
    "content"
   ]
  }
 ],
 "metadata": {
  "kernelspec": {
   "display_name": "Python 3",
   "language": "python",
   "name": "python3"
  },
  "language_info": {
   "codemirror_mode": {
    "name": "ipython",
    "version": 3
   },
   "file_extension": ".py",
   "mimetype": "text/x-python",
   "name": "python",
   "nbconvert_exporter": "python",
   "pygments_lexer": "ipython3",
   "version": "3.6.4"
  }
 },
 "nbformat": 4,
 "nbformat_minor": 2
}
